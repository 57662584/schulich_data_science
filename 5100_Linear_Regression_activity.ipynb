{
 "cells": [
  {
   "cell_type": "code",
   "execution_count": 5,
   "id": "dccda819",
   "metadata": {},
   "outputs": [],
   "source": [
    "from pathlib import Path\n",
    "\n",
    "import pandas as pd\n",
    "from sklearn.model_selection import train_test_split\n",
    "from sklearn.linear_model import LinearRegression, Lasso, Ridge, LassoCV, BayesianRidge\n",
    "import statsmodels.formula.api as sm\n",
    "import matplotlib.pylab as plt\n",
    "\n",
    "import dmba\n",
    "from dmba import regressionSummary, exhaustive_search\n",
    "from dmba import backward_elimination, forward_selection, stepwise_selection\n",
    "from dmba import adjusted_r2_score, AIC_score, BIC_score"
   ]
  },
  {
   "cell_type": "code",
   "execution_count": 8,
   "id": "48a8d3b4",
   "metadata": {},
   "outputs": [
    {
     "name": "stdout",
     "output_type": "stream",
     "text": [
      "Index(['Id', 'Model', 'Price', 'Age_08_04', 'Mfg_Month', 'Mfg_Year', 'KM',\n",
      "       'Fuel_Type', 'HP', 'Met_Color', 'Color', 'Automatic', 'CC', 'Doors',\n",
      "       'Cylinders', 'Gears', 'Quarterly_Tax', 'Weight', 'Mfr_Guarantee',\n",
      "       'BOVAG_Guarantee', 'Guarantee_Period', 'ABS', 'Airbag_1', 'Airbag_2',\n",
      "       'Airco', 'Automatic_airco', 'Boardcomputer', 'CD_Player',\n",
      "       'Central_Lock', 'Powered_Windows', 'Power_Steering', 'Radio',\n",
      "       'Mistlamps', 'Sport_Model', 'Backseat_Divider', 'Metallic_Rim',\n",
      "       'Radio_cassette', 'Parking_Assistant', 'Tow_Bar'],\n",
      "      dtype='object')\n",
      "   Id                                          Model  Price  Age_08_04  \\\n",
      "0   1  TOYOTA Corolla 2.0 D4D HATCHB TERRA 2/3-Doors  13500         23   \n",
      "1   2  TOYOTA Corolla 2.0 D4D HATCHB TERRA 2/3-Doors  13750         23   \n",
      "2   3  TOYOTA Corolla 2.0 D4D HATCHB TERRA 2/3-Doors  13950         24   \n",
      "3   4  TOYOTA Corolla 2.0 D4D HATCHB TERRA 2/3-Doors  14950         26   \n",
      "4   5    TOYOTA Corolla 2.0 D4D HATCHB SOL 2/3-Doors  13750         30   \n",
      "\n",
      "   Mfg_Month  Mfg_Year     KM Fuel_Type  HP  Met_Color  ... Powered_Windows  \\\n",
      "0         10      2002  46986    Diesel  90          1  ...               1   \n",
      "1         10      2002  72937    Diesel  90          1  ...               0   \n",
      "2          9      2002  41711    Diesel  90          1  ...               0   \n",
      "3          7      2002  48000    Diesel  90          0  ...               0   \n",
      "4          3      2002  38500    Diesel  90          0  ...               1   \n",
      "\n",
      "   Power_Steering  Radio  Mistlamps  Sport_Model  Backseat_Divider  \\\n",
      "0               1      0          0            0                 1   \n",
      "1               1      0          0            0                 1   \n",
      "2               1      0          0            0                 1   \n",
      "3               1      0          0            0                 1   \n",
      "4               1      0          1            0                 1   \n",
      "\n",
      "   Metallic_Rim  Radio_cassette  Parking_Assistant  Tow_Bar  \n",
      "0             0               0                  0        0  \n",
      "1             0               0                  0        0  \n",
      "2             0               0                  0        0  \n",
      "3             0               0                  0        0  \n",
      "4             0               0                  0        0  \n",
      "\n",
      "[5 rows x 39 columns]\n"
     ]
    }
   ],
   "source": [
    "car_df = dmba.load_data('ToyotaCorolla.csv')\n",
    "print(car_df.columns)\n",
    "print(car_df.head())\n"
   ]
  },
  {
   "cell_type": "code",
   "execution_count": 14,
   "id": "c2274249",
   "metadata": {},
   "outputs": [
    {
     "data": {
      "text/plain": [
       "LinearRegression()"
      ]
     },
     "execution_count": 14,
     "metadata": {},
     "output_type": "execute_result"
    }
   ],
   "source": [
    "predictors = ['Age_08_04', 'KM', 'Fuel_Type', 'HP', 'Automatic', 'Doors',\n",
    "    'Quarterly_Tax', 'Mfr_Guarantee', 'Guarantee_Period', 'Airco',\n",
    "    'Automatic_airco', 'CD_Player', 'Powered_Windows', 'Sport_Model', 'Tow_Bar']\n",
    "outcome = 'Price'\n",
    "# partition data\n",
    "X = pd.get_dummies(car_df[predictors], drop_first=True)\n",
    "y = car_df[outcome]\n",
    "\n",
    "train_X, valid_X, train_y, valid_y = train_test_split(X, y, test_size=0.2, random_state=1)\n",
    "\n",
    "car_lm = LinearRegression()\n",
    "car_lm.fit(train_X, train_y)\n",
    "\n"
   ]
  },
  {
   "cell_type": "code",
   "execution_count": 15,
   "id": "253f3fb3",
   "metadata": {},
   "outputs": [
    {
     "name": "stdout",
     "output_type": "stream",
     "text": [
      "intercept  9069.847844083184\n",
      "           Predictor  coefficient\n",
      "0          Age_08_04  -109.758421\n",
      "1                 KM    -0.018441\n",
      "2                 HP    37.803435\n",
      "3          Automatic   617.139156\n",
      "4              Doors   144.384691\n",
      "5      Quarterly_Tax    16.624936\n",
      "6      Mfr_Guarantee   152.904242\n",
      "7   Guarantee_Period    84.352082\n",
      "8              Airco   145.472000\n",
      "9    Automatic_airco  2997.221195\n",
      "10         CD_Player   284.677044\n",
      "11   Powered_Windows   462.393436\n",
      "12       Sport_Model   391.596482\n",
      "13           Tow_Bar  -221.049096\n",
      "14  Fuel_Type_Diesel  2160.912503\n",
      "15  Fuel_Type_Petrol  2154.276224\n",
      "\n",
      "Regression statistics\n",
      "\n",
      "                      Mean Error (ME) : -0.0000\n",
      "       Root Mean Squared Error (RMSE) : 1206.8732\n",
      "            Mean Absolute Error (MAE) : 908.3384\n",
      "          Mean Percentage Error (MPE) : -0.9840\n",
      "Mean Absolute Percentage Error (MAPE) : 8.9836\n"
     ]
    }
   ],
   "source": [
    "# print coefficients\n",
    "print('intercept ', car_lm.intercept_)\n",
    "print(pd.DataFrame({'Predictor': X.columns, 'coefficient': car_lm.coef_}))\n",
    "\n",
    "# print performance measures\n",
    "regressionSummary(train_y, car_lm.predict(train_X))"
   ]
  },
  {
   "cell_type": "code",
   "execution_count": 16,
   "id": "9c06ac98",
   "metadata": {},
   "outputs": [
    {
     "name": "stdout",
     "output_type": "stream",
     "text": [
      "           Predictor  coefficient\n",
      "9    Automatic_airco  2997.221195\n",
      "14  Fuel_Type_Diesel  2160.912503\n",
      "15  Fuel_Type_Petrol  2154.276224\n",
      "3          Automatic   617.139156\n",
      "11   Powered_Windows   462.393436\n",
      "12       Sport_Model   391.596482\n",
      "10         CD_Player   284.677044\n",
      "13           Tow_Bar  -221.049096\n",
      "6      Mfr_Guarantee   152.904242\n",
      "8              Airco   145.472000\n",
      "4              Doors   144.384691\n",
      "0          Age_08_04  -109.758421\n",
      "7   Guarantee_Period    84.352082\n",
      "2                 HP    37.803435\n",
      "5      Quarterly_Tax    16.624936\n",
      "1                 KM    -0.018441\n"
     ]
    }
   ],
   "source": [
    "print(pd.DataFrame({'Predictor': X.columns, 'coefficient': car_lm.coef_}).sort_values(by='coefficient', key=abs, ascending=False))"
   ]
  },
  {
   "cell_type": "code",
   "execution_count": 17,
   "id": "f26f3dd7",
   "metadata": {},
   "outputs": [
    {
     "name": "stdout",
     "output_type": "stream",
     "text": [
      "adjusted r2 :  0.8855698263332518\n",
      "AIC :  19585.812410144987\n",
      "BIC :  19676.63638852882\n"
     ]
    }
   ],
   "source": [
    "pred_y = car_lm.predict(train_X)\n",
    "\n",
    "print('adjusted r2 : ', adjusted_r2_score(train_y, pred_y, car_lm))\n",
    "print('AIC : ', AIC_score(train_y, pred_y, car_lm))\n",
    "print('BIC : ', BIC_score(train_y, pred_y, car_lm))"
   ]
  },
  {
   "cell_type": "code",
   "execution_count": null,
   "id": "7509fad2",
   "metadata": {},
   "outputs": [
    {
     "name": "stdout",
     "output_type": "stream",
     "text": [
      "                            OLS Regression Results                            \n",
      "==============================================================================\n",
      "Dep. Variable:                  Price   R-squared:                       0.889\n",
      "Model:                            OLS   Adj. R-squared:                  0.888\n",
      "Method:                 Least Squares   F-statistic:                     712.5\n",
      "Date:                Wed, 21 May 2025   Prob (F-statistic):               0.00\n",
      "Time:                        20:52:40   Log-Likelihood:                -12226.\n",
      "No. Observations:                1436   AIC:                         2.449e+04\n",
      "Df Residuals:                    1419   BIC:                         2.458e+04\n",
      "Df Model:                          16                                         \n",
      "Covariance Type:            nonrobust                                         \n",
      "====================================================================================\n",
      "                       coef    std err          t      P>|t|      [0.025      0.975]\n",
      "------------------------------------------------------------------------------------\n",
      "const             9674.4087    531.252     18.211      0.000    8632.285    1.07e+04\n",
      "Age_08_04         -110.0491      2.754    -39.964      0.000    -115.451    -104.647\n",
      "KM                  -0.0180      0.001    -14.767      0.000      -0.020      -0.016\n",
      "HP                  34.1236      2.859     11.937      0.000      28.516      39.731\n",
      "Automatic          551.3701    141.424      3.899      0.000     273.948     828.792\n",
      "Doors              163.2686     35.294      4.626      0.000      94.035     232.502\n",
      "Quarterly_Tax       16.5518      1.583     10.455      0.000      13.446      19.657\n",
      "Mfr_Guarantee      198.9091     68.698      2.895      0.004      64.148     333.670\n",
      "Guarantee_Period    81.5052     11.507      7.083      0.000      58.933     104.078\n",
      "Airco              154.2059     82.335      1.873      0.061      -7.306     315.718\n",
      "Automatic_airco   3093.5510    164.400     18.817      0.000    2771.057    3416.045\n",
      "CD_Player          301.2419     91.358      3.297      0.001     122.031     480.453\n",
      "Powered_Windows    452.3202     78.609      5.754      0.000     298.119     606.522\n",
      "Sport_Model        365.9896     74.988      4.881      0.000     218.890     513.089\n",
      "Tow_Bar           -245.0900     74.369     -3.296      0.001    -390.976     -99.204\n",
      "Fuel_Type_Diesel  1890.5882    325.476      5.809      0.000    1252.123    2529.054\n",
      "Fuel_Type_Petrol  1863.4184    345.302      5.396      0.000    1186.061    2540.775\n",
      "==============================================================================\n",
      "Omnibus:                      203.635   Durbin-Watson:                   1.662\n",
      "Prob(Omnibus):                  0.000   Jarque-Bera (JB):              726.710\n",
      "Skew:                           0.668   Prob(JB):                    1.57e-158\n",
      "Kurtosis:                       6.219   Cond. No.                     1.58e+06\n",
      "==============================================================================\n",
      "\n",
      "Notes:\n",
      "[1] Standard Errors assume that the covariance matrix of the errors is correctly specified.\n",
      "[2] The condition number is large, 1.58e+06. This might indicate that there are\n",
      "strong multicollinearity or other numerical problems.\n"
     ]
    }
   ],
   "source": [
    "\n",
    "X_sm = sm.add_constant(X)\n",
    "model = sm.OLS(y, X_sm).fit()\n",
    "\n",
    "print(model.summary())"
   ]
  }
 ],
 "metadata": {
  "kernelspec": {
   "display_name": "base",
   "language": "python",
   "name": "python3"
  },
  "language_info": {
   "codemirror_mode": {
    "name": "ipython",
    "version": 3
   },
   "file_extension": ".py",
   "mimetype": "text/x-python",
   "name": "python",
   "nbconvert_exporter": "python",
   "pygments_lexer": "ipython3",
   "version": "3.9.13"
  }
 },
 "nbformat": 4,
 "nbformat_minor": 5
}
