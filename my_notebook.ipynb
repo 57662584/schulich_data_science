{
 "cells": [
  {
   "cell_type": "code",
   "execution_count": null,
   "id": "5d3e88c2",
   "metadata": {
    "vscode": {
     "languageId": "plaintext"
    }
   },
   "outputs": [],
   "source": [
    "123"
   ]
  }
 ],
 "metadata": {
  "language_info": {
   "name": "python"
  }
 },
 "nbformat": 4,
 "nbformat_minor": 5
}
